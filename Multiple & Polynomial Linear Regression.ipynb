{
 "cells": [
  {
   "cell_type": "markdown",
   "id": "ffba155d-6627-4e99-8a14-baa37fcef94a",
   "metadata": {},
   "source": [
    "## Multiple Linear Regression"
   ]
  },
  {
   "cell_type": "markdown",
   "id": "fd3256b0-4b2e-401c-8b09-6e44d64822f2",
   "metadata": {},
   "source": [
    "* We will have multiple independent variables/features and one output feature.\n",
    "\n",
    "Instead of finding the best fit line, we create a 3D plan. With the help of this 3D plan, we try to find out the points and do the prediction. "
   ]
  },
  {
   "cell_type": "markdown",
   "id": "1ff06a69-c938-4616-9066-bca59fb096fe",
   "metadata": {},
   "source": [
    "## Polynomial Regression"
   ]
  },
  {
   "cell_type": "markdown",
   "id": "4a793a4c-1426-4cd7-91ee-60f98ed70da2",
   "metadata": {},
   "source": [
    "- The datapoints will have non-linear relationship. It will seem to be some sort of curve. \n",
    "\n",
    "In this scenario, if we try to create a best fit line, the error will be higher. In a non-linear shape of data points, if we want to create a best fit line, it has to be curvy based on the data points shape. \n",
    "\n",
    "In this kind of problem statement, we use polynominal regression. And, Polynomial degree plays an important role here."
   ]
  },
  {
   "cell_type": "markdown",
   "id": "926b91fa-afb8-4bbd-857b-48ee349c753a",
   "metadata": {},
   "source": [
    "## Polynomial Degrees"
   ]
  },
  {
   "cell_type": "markdown",
   "id": "12f3aa6b-b9ec-4d30-9e2e-70baced88e42",
   "metadata": {},
   "source": [
    "- Whenever we have a non-linear relation data, we need to increase the polynomial degree in such a way that, the best fit line fits the data.\n",
    "- An increase on polynomial degree risks the data to be over fit."
   ]
  },
  {
   "cell_type": "code",
   "execution_count": null,
   "id": "af154f3f-979a-4636-8223-d570b9c356ab",
   "metadata": {},
   "outputs": [],
   "source": []
  }
 ],
 "metadata": {
  "kernelspec": {
   "display_name": "Python 3 (ipykernel)",
   "language": "python",
   "name": "python3"
  },
  "language_info": {
   "codemirror_mode": {
    "name": "ipython",
    "version": 3
   },
   "file_extension": ".py",
   "mimetype": "text/x-python",
   "name": "python",
   "nbconvert_exporter": "python",
   "pygments_lexer": "ipython3",
   "version": "3.10.8"
  }
 },
 "nbformat": 4,
 "nbformat_minor": 5
}
