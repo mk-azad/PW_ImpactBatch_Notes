{
 "cells": [
  {
   "cell_type": "markdown",
   "id": "4273f87b-65c6-46bb-abed-6bd29de89ada",
   "metadata": {},
   "source": [
    "## Performance Metrix"
   ]
  },
  {
   "cell_type": "markdown",
   "id": "b6a84db3-ab1a-42fb-a738-b55943edbc16",
   "metadata": {},
   "source": [
    "When we train a model with respect to linear regression, what is the accuracy that we should really focus on, how to probably calculate the accuracy, and when do we say we have a better model or not, for that we basically use two different performance matrix as below: (Interview Question)\n",
    "1. R-suared\n",
    "2. Adjusted R squared"
   ]
  },
  {
   "cell_type": "markdown",
   "id": "94ec5c4c-8299-4319-9d61-ffd6cbd2262d",
   "metadata": {},
   "source": [
    "## R-Squared"
   ]
  },
  {
   "cell_type": "markdown",
   "id": "2dd78365-6e5d-419f-b1f9-17aa65c30da3",
   "metadata": {},
   "source": [
    "* R-Squared = 1 - Sum of Squared Residuals/Sum of Squared Total\n",
    "\n",
    "* Sum of Squared Residuals = This comes from best fit line Error\n",
    "* Sum of Squared Total = This comes from the yi line average error\n",
    "* Resuduals means it is the difference between y and y^\n",
    "\n",
    "- SSTotal= The distance between the actaul points and the predicted points on the (.......) line and sum of it and we square it.\n",
    "\n",
    "The straight line is drawn having the mean iof the yi values, and we start drawing the differences between the actaul point and the predicted point on this particular line. \n",
    "\n",
    "* The R-Square is basically saying that, atleast the error that we are getting from the best fit line should be less than the average of yi.\n",
    "\n",
    "For example, we calculate the error of the best fit line, at the same time, we calculate the error of yi line as well. The error of the best fit line should be less to get the best accuracy. \n",
    "\n",
    "* Interview question: Can R. Square be -ve?\n",
    "Ans: Yes it can if the best fit line is worst.\n",
    "\n",
    "* Suppose we have multiple independednt features f1, f2, f3, f4 and one dependent feature o/p. if independent features are highly co-related with o/p, then the accuracy tends to increase. Which means R-Square tends to increase\n",
    "\n",
    "- Example: We get rR2 = 0.75 = 75% accuracy of the model. Suppose we get = 0.85%. accuracy is increasing. The maximum value of R2 will be 1, the minimum will be zero 0.\n",
    "\n",
    "- We shouldn't get 1. If we get 2, it will be over fitting problem. "
   ]
  },
  {
   "cell_type": "markdown",
   "id": "fc218ba8-2a6f-4fe0-be96-637adebf217d",
   "metadata": {},
   "source": [
    "## Adjusted R-Square"
   ]
  },
  {
   "cell_type": "markdown",
   "id": "bae7c232-d11e-4945-ab3c-7787616e3b82",
   "metadata": {},
   "source": [
    "lets say we have 3 features x1, x2, and y\n",
    "\n",
    "x1 = Size if the house\n",
    "x2 = Number of bedrooms\n",
    "y = Price (Target Variable)\n",
    "\n",
    "We know that size of the house and number of bedroom are highly co-related with the price. Based on this, R2 = 85%\n",
    "\n",
    "Suppose, we want to add another featyre x3 named location. We know that location will have an impact on price. So, R2 will increase drastically. R2 = 90%. The accuracy will be mych more accurate.\n",
    "\n",
    "Now if we add another feature x4 as gender, we know that gender will not have an impact on price. The R2 will have a little increase though. R2 = 91%\n",
    "\n",
    "If we keep adding features, our R2 will increase only at any point of time, regardless of the importants of the feature. The accuracy gets increased. \n",
    "\n",
    "\n",
    "*  We need to understand a very important thing in this case. With repect to adjusted R2 this thing will not happen. R2 is ot actaully telling me that how our model is behaving with the new feature thats been added. It is still increasing the accuracy. \n",
    "\n",
    "In order to prevent this problem, we specifically use adjusted R2.\n",
    "\n",
    "* Adjusted R2 will be always less than R2 value."
   ]
  },
  {
   "cell_type": "code",
   "execution_count": null,
   "id": "ea32ff73-d3c9-4b39-aaf0-a24f4e339cf0",
   "metadata": {},
   "outputs": [],
   "source": []
  }
 ],
 "metadata": {
  "kernelspec": {
   "display_name": "Python 3 (ipykernel)",
   "language": "python",
   "name": "python3"
  },
  "language_info": {
   "codemirror_mode": {
    "name": "ipython",
    "version": 3
   },
   "file_extension": ".py",
   "mimetype": "text/x-python",
   "name": "python",
   "nbconvert_exporter": "python",
   "pygments_lexer": "ipython3",
   "version": "3.10.8"
  }
 },
 "nbformat": 4,
 "nbformat_minor": 5
}
